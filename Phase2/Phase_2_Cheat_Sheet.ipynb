{
 "cells": [
  {
   "cell_type": "markdown",
   "metadata": {},
   "source": [
    "## Topic 14: Hypothesis Testing\n"
   ]
  },
  {
   "cell_type": "markdown",
   "metadata": {},
   "source": [
    "**Errors and Sampling**\n",
    "\n",
    "Type 1 Error is False Positive, where you reject the null hypothesis when you should fail to reject it.\n",
    "* Example: Doctor says old man is pregnant\n",
    "\n",
    "Type 2 Error is False Negative, where you fail to reject a null hypothesis that should be rejected.\n",
    "* Example: Woman in labor is not pregnant\n",
    "\n",
    "In order to produce a quality sample, follow these assumptions:\n",
    "* Sample is independent, meaning the value of one observation does not affect the other observations\n",
    "* Sample is collected randomly, so selection happens by chance instead of choice\n",
    "* Sample is normally distributed\n",
    "* Sample size is appropriately large\n"
   ]
  },
  {
   "cell_type": "markdown",
   "metadata": {},
   "source": [
    "**P-Values**\n",
    "\n",
    "P-value is a statistical summary of the compatibility between the observed data and what you would expect to see in a population assuming the statistical model is correct.\n",
    "* If p-value is lower than significance threshold **(p < a)**, we reject the null hypothesis. This means the observed sample mean is significantly different than population mean.\n",
    "* If p-value is higher than significance threshold **(p > a)**, we fail to reject the null hypothesis, or the sample mean is not significantly different from the population mean.\n",
    "\n",
    "**Significance Threshold, or alpha**\n",
    "\n",
    "Compared against p-value to determine if a finding is significant. Typically, alpha will be = 0.05.\n",
    "\n",
    "Choosing a lower alpha leads to a test that is more strict, so you will be less likely to be able to reject your null-hypothesis (which is generally what you want). Choosing a higher alpha or significance level leads to a higher probability of rejecting the null-hypothesis. The downside of using a higher alpha level, however, is that you run a higher risk of falsely concluding that there is a difference between your null-hypothesis and your observed results when there actually isn't any."
   ]
  },
  {
   "cell_type": "markdown",
   "metadata": {},
   "source": [
    "**One Sample Z-test**\n",
    "\n",
    "The one-sample 𝑧-test is used when you want to know if your sample comes from a particular population. Z - Test Use Case: When we have a large sample and we KNOW THE POPULATION STD DEV!\n",
    "\n",
    "$$ \\large \\text{z-statistic} = \\dfrac{\\bar x - \\mu_0}{{\\sigma}/{\\sqrt{n}}} $$\n",
    "\n",
    "Once you obtain the z-score, run it into cdf to determine probability.\n"
   ]
  },
  {
   "cell_type": "code",
   "execution_count": 3,
   "metadata": {},
   "outputs": [
    {
     "name": "stdout",
     "output_type": "stream",
     "text": [
      "0.9331927987311419\n",
      "0.09012267246445238\n"
     ]
    }
   ],
   "source": [
    "# Using stats.cdf to find probability for a z-score\n",
    "import scipy.stats as stats\n",
    "\n",
    "# Probabilities up to z-score of 1.5\n",
    "print(stats.norm.cdf(1.5))\n",
    "\n",
    "# Probabilities greater than z-score of 1.34\n",
    "print (1-stats.norm.cdf(1.34))"
   ]
  },
  {
   "cell_type": "markdown",
   "metadata": {},
   "source": [
    "**Example Problem**"
   ]
  },
  {
   "cell_type": "code",
   "execution_count": null,
   "metadata": {},
   "outputs": [],
   "source": []
  },
  {
   "cell_type": "code",
   "execution_count": null,
   "metadata": {},
   "outputs": [],
   "source": []
  },
  {
   "cell_type": "markdown",
   "metadata": {},
   "source": [
    "**Anova Testing**\n",
    "\n",
    "Anova testing can determine if there is some variation between three or more samples. Limitation: Cannot tell you where the difference lies."
   ]
  },
  {
   "cell_type": "code",
   "execution_count": null,
   "metadata": {},
   "outputs": [],
   "source": []
  }
 ],
 "metadata": {
  "kernelspec": {
   "display_name": "Python (learn-env)",
   "language": "python",
   "name": "learn-env"
  },
  "language_info": {
   "codemirror_mode": {
    "name": "ipython",
    "version": 3
   },
   "file_extension": ".py",
   "mimetype": "text/x-python",
   "name": "python",
   "nbconvert_exporter": "python",
   "pygments_lexer": "ipython3",
   "version": "3.8.5"
  }
 },
 "nbformat": 4,
 "nbformat_minor": 4
}
